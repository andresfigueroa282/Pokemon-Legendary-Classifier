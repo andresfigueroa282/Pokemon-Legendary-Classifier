{
 "cells": [
  {
   "cell_type": "markdown",
   "id": "fff93001",
   "metadata": {},
   "source": [
    "#### Author\n",
    "**Name:** Andres Figueroa  \n",
    "**Email:** andresfigueroa@brandeis.edu  \n",
    "\n",
    "#### Project Description\n",
    "The goal of this project is to build a model that predicts whether a Pokémon is Legendary based on its stats and other features.\n",
    "\n",
    "---"
   ]
  },
  {
   "cell_type": "markdown",
   "id": "7f628fcd",
   "metadata": {},
   "source": [
    "### Importing Libraries"
   ]
  },
  {
   "cell_type": "code",
   "execution_count": 218,
   "id": "9684e87f",
   "metadata": {},
   "outputs": [],
   "source": [
    "import pandas as pd\n",
    "import numpy as np\n",
    "import os \n",
    "import matplotlib.pyplot as plt\n",
    "import seaborn as sns\n",
    "from sklearn.model_selection import train_test_split\n",
    "from sklearn.preprocessing import StandardScaler\n",
    "from imblearn.over_sampling import SMOTE\n",
    "from sklearn.linear_model import LogisticRegression\n",
    "from sklearn.metrics import classification_report, confusion_matrix, roc_auc_score, precision_recall_curve, auc, roc_curve,precision_score, recall_score, f1_score\n",
    "from sklearn.ensemble import RandomForestClassifier\n",
    "from xgboost import XGBClassifier\n",
    "from sklearn.metrics import ConfusionMatrixDisplay, RocCurveDisplay, PrecisionRecallDisplay\n",
    "from sklearn.model_selection import cross_val_score, StratifiedKFold, GridSearchCV, RandomizedSearchCV\n",
    "from scipy.stats import randint, uniform"
   ]
  },
  {
   "cell_type": "markdown",
   "id": "0c4d6838",
   "metadata": {},
   "source": [
    "---\n",
    "### Step 1: Loading and Exploring the Dataset"
   ]
  },
  {
   "cell_type": "code",
   "execution_count": 219,
   "id": "6601ce49",
   "metadata": {},
   "outputs": [
    {
     "name": "stdout",
     "output_type": "stream",
     "text": [
      "Index(['abilities', 'against_bug', 'against_dark', 'against_dragon',\n",
      "       'against_electric', 'against_fairy', 'against_fight', 'against_fire',\n",
      "       'against_flying', 'against_ghost', 'against_grass', 'against_ground',\n",
      "       'against_ice', 'against_normal', 'against_poison', 'against_psychic',\n",
      "       'against_rock', 'against_steel', 'against_water', 'attack',\n",
      "       'base_egg_steps', 'base_happiness', 'base_total', 'capture_rate',\n",
      "       'classfication', 'defense', 'experience_growth', 'height_m', 'hp',\n",
      "       'japanese_name', 'name', 'percentage_male', 'pokedex_number',\n",
      "       'sp_attack', 'sp_defense', 'speed', 'type1', 'type2', 'weight_kg',\n",
      "       'generation', 'is_legendary'],\n",
      "      dtype='object')\n",
      "                     abilities  against_bug  against_dark  against_dragon  \\\n",
      "0  ['Overgrow', 'Chlorophyll']          1.0           1.0             1.0   \n",
      "1  ['Overgrow', 'Chlorophyll']          1.0           1.0             1.0   \n",
      "2  ['Overgrow', 'Chlorophyll']          1.0           1.0             1.0   \n",
      "3     ['Blaze', 'Solar Power']          0.5           1.0             1.0   \n",
      "4     ['Blaze', 'Solar Power']          0.5           1.0             1.0   \n",
      "\n",
      "   against_electric  against_fairy  against_fight  against_fire  \\\n",
      "0               0.5            0.5            0.5           2.0   \n",
      "1               0.5            0.5            0.5           2.0   \n",
      "2               0.5            0.5            0.5           2.0   \n",
      "3               1.0            0.5            1.0           0.5   \n",
      "4               1.0            0.5            1.0           0.5   \n",
      "\n",
      "   against_flying  against_ghost  ...  percentage_male  pokedex_number  \\\n",
      "0             2.0            1.0  ...             88.1               1   \n",
      "1             2.0            1.0  ...             88.1               2   \n",
      "2             2.0            1.0  ...             88.1               3   \n",
      "3             1.0            1.0  ...             88.1               4   \n",
      "4             1.0            1.0  ...             88.1               5   \n",
      "\n",
      "   sp_attack  sp_defense  speed  type1   type2  weight_kg  generation  \\\n",
      "0         65          65     45  grass  poison        6.9           1   \n",
      "1         80          80     60  grass  poison       13.0           1   \n",
      "2        122         120     80  grass  poison      100.0           1   \n",
      "3         60          50     65   fire     NaN        8.5           1   \n",
      "4         80          65     80   fire     NaN       19.0           1   \n",
      "\n",
      "   is_legendary  \n",
      "0             0  \n",
      "1             0  \n",
      "2             0  \n",
      "3             0  \n",
      "4             0  \n",
      "\n",
      "[5 rows x 41 columns]\n"
     ]
    }
   ],
   "source": [
    "df = pd.read_csv('pokemon.csv')\n",
    "\n",
    "print(df.columns)\n",
    "print(df.head())"
   ]
  },
  {
   "cell_type": "code",
   "execution_count": 220,
   "id": "d1317574",
   "metadata": {},
   "outputs": [
    {
     "data": {
      "text/plain": [
       "abilities             object\n",
       "against_bug          float64\n",
       "against_dark         float64\n",
       "against_dragon       float64\n",
       "against_electric     float64\n",
       "against_fairy        float64\n",
       "against_fight        float64\n",
       "against_fire         float64\n",
       "against_flying       float64\n",
       "against_ghost        float64\n",
       "against_grass        float64\n",
       "against_ground       float64\n",
       "against_ice          float64\n",
       "against_normal       float64\n",
       "against_poison       float64\n",
       "against_psychic      float64\n",
       "against_rock         float64\n",
       "against_steel        float64\n",
       "against_water        float64\n",
       "attack                 int64\n",
       "base_egg_steps         int64\n",
       "base_happiness         int64\n",
       "base_total             int64\n",
       "capture_rate          object\n",
       "classfication         object\n",
       "defense                int64\n",
       "experience_growth      int64\n",
       "height_m             float64\n",
       "hp                     int64\n",
       "japanese_name         object\n",
       "name                  object\n",
       "percentage_male      float64\n",
       "pokedex_number         int64\n",
       "sp_attack              int64\n",
       "sp_defense             int64\n",
       "speed                  int64\n",
       "type1                 object\n",
       "type2                 object\n",
       "weight_kg            float64\n",
       "generation             int64\n",
       "is_legendary           int64\n",
       "dtype: object"
      ]
     },
     "execution_count": 220,
     "metadata": {},
     "output_type": "execute_result"
    }
   ],
   "source": [
    "df.dtypes"
   ]
  },
  {
   "cell_type": "markdown",
   "id": "a10d5959",
   "metadata": {},
   "source": [
    "---"
   ]
  },
  {
   "cell_type": "markdown",
   "id": "0f97a028",
   "metadata": {},
   "source": [
    "### Step 2: Defining Our ML Problem"
   ]
  },
  {
   "cell_type": "markdown",
   "id": "3d2a7bee",
   "metadata": {},
   "source": [
    "#### Dataset Explanation\n",
    "\n",
    "The dataset includes detailed information on all **802 Pokémon** spanning across **seven generations**. It captures a wide variety of attributes such as:\n",
    "\n",
    "- Base Stats (`hp`, `attack`, `defense`, `sp_attack`, `sp_defense`, `speed`, `total`)\n",
    "- Pokémon Types\n",
    "- Abilities\n",
    "- Height & Weight\n",
    "- Egg Steps\n",
    "- Capture Rate\n",
    "- Experience Growth\n",
    "\n",
    "These rich and diverse features make the dataset ideal for training a classification model to distinguish Legendary Pokémon from others.\n",
    "\n",
    "---\n",
    "\n",
    "#### Prediction Target (Label)\n",
    "\n",
    "The label we are predicting is: **`is_legendary`**\n",
    "\n",
    "This is a **binary classification** target:\n",
    "- `1` → Pokémon is Legendary  \n",
    "- `0` → Pokémon is not Legendary\n",
    "\n",
    "---\n",
    "\n",
    "#### Problem Type\n",
    "\n",
    "This is a **supervised learning** problem because the model is trained on labeled examples where the target (`is_legendary`) is known.\n",
    "\n",
    "Specifically, it is a:\n",
    "- **Binary Classification** task  \n",
    "- The goal is to classify each Pokémon as either **Legendary** or **Non-Legendary**\n",
    "\n",
    "---\n",
    "\n",
    "#### Importance\n",
    "\n",
    "While this project originated from personal interest—having grown up as a fan of Pokémon—it has practical implications:\n",
    "\n",
    "- **Game developers** can use models like this to support **game balancing**\n",
    "- **Content creators** can better understand or generate content focused on **powerful or rare Pokémon**\n",
    "- **Gaming companies** may leverage these insights to **enhance user engagement**, improve in-game mechanics, or personalize content recommendations\n"
   ]
  },
  {
   "cell_type": "markdown",
   "id": "8b308c72",
   "metadata": {},
   "source": [
    "### Step 3: Understanding Our Data"
   ]
  },
  {
   "cell_type": "markdown",
   "id": "26a98ea8",
   "metadata": {},
   "source": [
    "#### Missing Data"
   ]
  },
  {
   "cell_type": "code",
   "execution_count": 221,
   "id": "715c90d3",
   "metadata": {},
   "outputs": [
    {
     "data": {
      "text/plain": [
       "height_m            20\n",
       "percentage_male     98\n",
       "type2              384\n",
       "weight_kg           20\n",
       "dtype: int64"
      ]
     },
     "execution_count": 221,
     "metadata": {},
     "output_type": "execute_result"
    }
   ],
   "source": [
    "df.isnull().sum()[df.isnull().sum() > 0]"
   ]
  },
  {
   "cell_type": "markdown",
   "id": "649650e3",
   "metadata": {},
   "source": [
    "> **Note:** While height and weight are numeric, they were dropped due to a lack of correlation with legendary pokemon. Legendary pokemon come in all sorts of shapes and sizes."
   ]
  },
  {
   "cell_type": "markdown",
   "id": "67148b3f",
   "metadata": {},
   "source": [
    "#### Visualizing Potential Outliers"
   ]
  },
  {
   "cell_type": "code",
   "execution_count": 222,
   "id": "23e5acb7",
   "metadata": {},
   "outputs": [
    {
     "data": {
      "image/png": "[encoded data removed]",
      "text/plain": [
       "<Figure size 640x480 with 7 Axes>"
      ]
     },
     "metadata": {},
     "output_type": "display_data"
    }
   ],
   "source": [
    "outlier_features = ['hp', 'attack', 'defense', 'sp_attack', 'sp_defense', 'speed', 'base_total']\n",
    "\n",
    "for i, feature in enumerate(outlier_features, 1):\n",
    "    plt.subplot(3, 3, i)\n",
    "    sns.boxplot(x = df[feature])\n",
    "    plt.title(f'Boxplot of {feature}')\n",
    "\n",
    "plt.tight_layout()\n",
    "plt.show()"
   ]
  },
  {
   "cell_type": "markdown",
   "id": "756c9dab",
   "metadata": {},
   "source": [
    "#### Note on Outlier Analysis & Considerations\n",
    "\n",
    "> The following boxplots visualize distributions for key numerical features (`hp`, `attack`, `defense`, `sp_attack`, `sp_defense`, `speed`, and `base_total`). Across all features, we observe several high-end outliers.\n",
    "\n",
    "While these may initially seem like candidates for removal, I chose to keep them. I made this decision because of the existence of **pseudo-legendary Pokémon**—non-legendary Pokémon with high base stats (600), such as **Dragonite**, **Garchomp**, and **Hydreigon**.\n",
    "\n",
    "Although not classified as Legendary, these 'outliers' allows the model to learn complex patterns that differentiate true legendary Pokémon from similarly strong counterparts. This goes to show the variance in stats of different pokemon.\n"
   ]
  },
  {
   "cell_type": "markdown",
   "id": "593c8a55",
   "metadata": {},
   "source": [
    "#### Getting a Better Understanding of is_legendary (Our Label)"
   ]
  },
  {
   "cell_type": "code",
   "execution_count": 223,
   "id": "4dd7647f",
   "metadata": {},
   "outputs": [
    {
     "data": {
      "text/plain": [
       "0      0\n",
       "1      0\n",
       "2      0\n",
       "3      0\n",
       "4      0\n",
       "      ..\n",
       "796    1\n",
       "797    1\n",
       "798    1\n",
       "799    1\n",
       "800    1\n",
       "Name: is_legendary, Length: 801, dtype: int64"
      ]
     },
     "execution_count": 223,
     "metadata": {},
     "output_type": "execute_result"
    }
   ],
   "source": [
    "df[\"is_legendary\"]"
   ]
  },
  {
   "cell_type": "markdown",
   "id": "960fba82",
   "metadata": {},
   "source": [
    "> **Note:** This is great. The label is already encoded and can be used by the model."
   ]
  },
  {
   "cell_type": "code",
   "execution_count": 224,
   "id": "bc0a6755",
   "metadata": {},
   "outputs": [
    {
     "data": {
      "text/plain": [
       "is_legendary\n",
       "0    731\n",
       "1     70\n",
       "Name: count, dtype: int64"
      ]
     },
     "execution_count": 224,
     "metadata": {},
     "output_type": "execute_result"
    }
   ],
   "source": [
    "df[\"is_legendary\"].value_counts()"
   ]
  },
  {
   "cell_type": "markdown",
   "id": "590e78b9",
   "metadata": {},
   "source": [
    "> **Note:** There's a significant class imbalances between legendary and non-legendary pokemon. This is important to note because models will be bias and lean towards predicting the majority class (non-legendary). We can use resampling techniques (like SMOTE), or use class weights."
   ]
  },
  {
   "cell_type": "markdown",
   "id": "b86042e5",
   "metadata": {},
   "source": [
    "#### Feature Engineering"
   ]
  },
  {
   "cell_type": "code",
   "execution_count": 225,
   "id": "a27a4f5b",
   "metadata": {},
   "outputs": [
    {
     "data": {
      "text/plain": [
       "dtype('float64')"
      ]
     },
     "execution_count": 225,
     "metadata": {},
     "output_type": "execute_result"
    }
   ],
   "source": [
    "#print(df.dtypes)\n",
    "df['capture_rate'] = pd.to_numeric(df['capture_rate'], errors='coerce')\n",
    "df['capture_rate'].dtype\n"
   ]
  },
  {
   "cell_type": "markdown",
   "id": "d96114bb",
   "metadata": {},
   "source": [
    "> **Note:** I saw that 'capture_rate' wasn't a numerical value, but rather a string. So, I converted it to a numerical value think it would prove as a valuable feature."
   ]
  },
  {
   "cell_type": "markdown",
   "id": "c1169ea7",
   "metadata": {},
   "source": [
    "#### Dropping Features"
   ]
  },
  {
   "cell_type": "code",
   "execution_count": 226,
   "id": "749e009e",
   "metadata": {},
   "outputs": [
    {
     "data": {
      "text/plain": [
       "Index(['attack', 'base_happiness', 'defense', 'experience_growth', 'hp',\n",
       "       'sp_attack', 'sp_defense', 'speed', 'is_legendary'],\n",
       "      dtype='object')"
      ]
     },
     "execution_count": 226,
     "metadata": {},
     "output_type": "execute_result"
    }
   ],
   "source": [
    "to_drop = ['abilities', 'name', 'percentage_male', 'pokedex_number', \n",
    "           'generation', 'type1', 'type2', 'japanese_name', 'base_egg_steps',\n",
    "           'classfication', 'height_m', 'weight_kg',\n",
    "           'base_total', 'capture_rate' # Maybe causing data leakage\n",
    "           ] # Some features that I think are irrelevant to the problem\n",
    "df = df.drop(columns = to_drop, errors = 'ignore')\n",
    "\n",
    "to_keep = []\n",
    "for col in df.columns: # Because I don't want to copy and paste all the weaknesses\n",
    "    if 'against' not in col: # I want to get rid of all features with 'against' because their weakness tell us nothing about whether they are legendary or not\n",
    "        to_keep.append(col)\n",
    "\n",
    "df = df[to_keep]\n",
    "#print(df.dtypes)\n",
    "df = df.dropna()\n",
    "\n",
    "df.columns"
   ]
  },
  {
   "cell_type": "markdown",
   "id": "f4dc92c8",
   "metadata": {},
   "source": [
    "#### Note on Feature Removal\n",
    "\n",
    "Features removed:\n",
    "- `height_m`, `weight_kg`: Size doesn't correlate with legendary status.\n",
    "- `type1`, `type2`: Legendary pokemon can have any type.\n",
    "- `percentage_male`: Some Pokémon are genderless.\n",
    "- `base_egg_steps`: Can cause data leakage.\n",
    "- `capture_rate`: Converted from string but later dropped due to leakage.\n",
    "- `base_total`: Viewed feature importance and cross-validated discovered it was leaking data."
   ]
  },
  {
   "cell_type": "markdown",
   "id": "2794e492",
   "metadata": {},
   "source": [
    "#### Model Selection\n",
    "\n",
    "Since this is a **binary classification** task, I selected a diverse set of models to compare:\n",
    "\n",
    "- **Logistic Regression**: A strong baseline for binary classification tasks.\n",
    "- **Random Forest Classifier**: Handles feature interactions and non-linearities well.\n",
    "- **XGBoost**: A powerful gradient boosting method known for its high performance.\n",
    "\n",
    "---\n",
    "\n",
    "#### Handling Class Imbalance\n",
    "\n",
    "The dataset has a **significant class imbalance**, with far fewer Legendary Pokémon than Non-Legendary. To address this, I applied **SMOTE** (Synthetic Minority Over-sampling Technique) on the training set.\n",
    "\n",
    "This technique generates synthetic examples of the minority class to help the model learn from underrepresented examples and reduce bias.\n",
    "\n",
    "---\n",
    "\n",
    "#### Evaluation Metrics\n",
    "\n",
    "I used the following metrics to evaluation of model performance:\n",
    "\n",
    "- **Accuracy**: Measures overall correctness of predictions.\n",
    "- **Precision**: Of all predicted Legendaries, how many were actually Legendary.\n",
    "- **Recall**: Of all actual Legendaries, how many were correctly predicted.\n",
    "- **F1 Score**: Harmonic mean of Precision and Recall; useful for imbalanced datasets.\n",
    "- **ROC AUC Score**: Captures how well the model separates the two classes across all thresholds.\n",
    "\n",
    "---\n"
   ]
  },
  {
   "cell_type": "markdown",
   "id": "4a7a27e8",
   "metadata": {},
   "source": [
    "### Step 4: Defining The Project Plan"
   ]
  },
  {
   "cell_type": "markdown",
   "id": "3ac55278",
   "metadata": {},
   "source": [
    "#### Feature Selection\n",
    "\n",
    "The features selected for modeling are primarily **numerical stats**, including:\n",
    "\n",
    "- `attack`\n",
    "- `base_happiness`\n",
    "- `defense`\n",
    "- `experience_growth`\n",
    "- `hp`\n",
    "- `sp_attack`\n",
    "- `sp_defense`\n",
    "- `speed`\n",
    "\n",
    "These features are closely tied to a Pokémon’s **strength and performance**, which may be indicative of whether it is classified as a **Legendary Pokemon**.\n",
    "\n",
    "---\n",
    "\n",
    "#### Features Removed\n",
    "\n",
    "Certain features were removed due to low predictive value or redundancy:\n",
    "\n",
    "- **`type1` and `type2`**: Pokémon types vary even among legendary pokemon.\n",
    "- **`height_m` and `weight_kg`**: Legendary pokémon also come in different shapes and sizes .\n",
    "- **Identifiers** like `name`, `japanese_name`, and similar non-numeric fields were removed as they do not contribute to the model's predictive capabilities.\n",
    "- **`base_total`**: This feature was later discovered to have been leaking data.\n",
    "- **`capture_rate`**: This feature was later discovered to have been leaking data.\n",
    "\n",
    "---\n",
    "\n",
    "#### Model Selection\n",
    "\n",
    "The following models were explored:\n",
    "\n",
    "- **Logistic Regression**: Serves as a baseline for binary classification.\n",
    "- **Random Forest Classifier**: Capable of handling feature interactions and robust to overfitting.\n",
    "- **XGBoost**: A powerful gradient boosting algorithm well-suited for tabular data and binary classification tasks.\n",
    "\n",
    "---\n",
    "\n",
    "#### Evaluation Strategy\n",
    "\n",
    "To comprehensively assess model performance, I focused on:\n",
    "\n",
    "- **Accuracy**\n",
    "- **Precision**\n",
    "- **Recall**\n",
    "- **F1 Score**\n",
    "- **ROC AUC Score**\n",
    "\n",
    "Rather than relying solely on accuracy, these metrics provide a better view of how well the model distinguishes between **Legendary** and **Non-Legendary** Pokémon.\n",
    "\n",
    "Hyperparameter tuning was performed using **GridSearchCV** and/or **RandomizedSearchCV** to further optimize model performance.\n",
    "\n",
    "---\n"
   ]
  },
  {
   "cell_type": "markdown",
   "id": "ded249b9",
   "metadata": {},
   "source": [
    "### Step 5: Implementing Our Project Plan"
   ]
  },
  {
   "cell_type": "code",
   "execution_count": 227,
   "id": "91d6fa60",
   "metadata": {},
   "outputs": [],
   "source": [
    "y = df['is_legendary']\n",
    "X = df.drop(columns = 'is_legendary')"
   ]
  },
  {
   "cell_type": "markdown",
   "id": "b468a492",
   "metadata": {},
   "source": [
    "##### Splitting the Data"
   ]
  },
  {
   "cell_type": "code",
   "execution_count": 228,
   "id": "d7fde237",
   "metadata": {},
   "outputs": [],
   "source": [
    "X_train, X_test, y_train, y_test = train_test_split(X, y, test_size = 0.2, random_state = 1234, stratify = y)"
   ]
  },
  {
   "cell_type": "markdown",
   "id": "f99baa36",
   "metadata": {},
   "source": [
    "##### Feature Scaling"
   ]
  },
  {
   "cell_type": "code",
   "execution_count": 229,
   "id": "f6a3c58b",
   "metadata": {},
   "outputs": [],
   "source": [
    "scaler = StandardScaler()\n",
    "X_train_scaled = scaler.fit_transform(X_train)\n",
    "X_test_scaled  = scaler.transform(X_test)"
   ]
  },
  {
   "cell_type": "markdown",
   "id": "693283ff",
   "metadata": {},
   "source": [
    "##### Addressing Class Imbalance with SMOTE"
   ]
  },
  {
   "cell_type": "code",
   "execution_count": 230,
   "id": "3fd38f50",
   "metadata": {},
   "outputs": [],
   "source": [
    "smote = SMOTE(random_state = 1234)\n",
    "X_train_smote, y_train_smote = smote.fit_resample(X_train_scaled, y_train)"
   ]
  },
  {
   "cell_type": "markdown",
   "id": "0b626caa",
   "metadata": {},
   "source": [
    "##### Training a Logistic Regression Model"
   ]
  },
  {
   "cell_type": "code",
   "execution_count": 231,
   "id": "5b2b92a7",
   "metadata": {},
   "outputs": [
    {
     "name": "stdout",
     "output_type": "stream",
     "text": [
      "              precision    recall  f1-score   support\n",
      "\n",
      "           0       0.99      0.97      0.98       147\n",
      "           1       0.72      0.93      0.81        14\n",
      "\n",
      "    accuracy                           0.96       161\n",
      "   macro avg       0.86      0.95      0.90       161\n",
      "weighted avg       0.97      0.96      0.96       161\n",
      "\n",
      "ROC AUC: 0.9310009718172984\n"
     ]
    }
   ],
   "source": [
    "lr = LogisticRegression(max_iter = 1000)\n",
    "lr.fit(X_train_smote, y_train_smote)\n",
    "y_pred = lr.predict(X_test_scaled)\n",
    "y_proba = lr.predict_proba(X_test_scaled)[:, 1]\n",
    "\n",
    "print(classification_report(y_test, y_pred))\n",
    "print(\"ROC AUC:\", roc_auc_score(y_test, y_proba))"
   ]
  },
  {
   "cell_type": "markdown",
   "id": "7e1ec475",
   "metadata": {},
   "source": [
    "> **Note:** On the first go, I only used the model’s predictions (`y_pred`) to check how well it worked. This was fine for most metrics like accuracy and F1 score. But for **ROC AUC**, we need the model’s **confidence** (how sure it is about its predictions), not just the final yes/no answer. So I fixed it by using `predict_proba()` to get the probability of a pokemon being legendary. This gives a more accurate ROC AUC score."
   ]
  },
  {
   "cell_type": "markdown",
   "id": "22aa2800",
   "metadata": {},
   "source": [
    "#### Logistic Regression ROC Curve Comparison"
   ]
  },
  {
   "cell_type": "code",
   "execution_count": null,
   "id": "a33da1c4",
   "metadata": {},
   "outputs": [
    {
     "data": {
      "image/png": "[encoded data removed]",
      "text/plain": [
       "<Figure size 640x480 with 1 Axes>"
      ]
     },
     "metadata": {},
     "output_type": "display_data"
    }
   ],
   "source": [
    "fpr_lr, tpr_lr, _ = roc_curve(y_test, y_proba)\n",
    "roc_auc_lr = auc(fpr_lr, tpr_lr)\n",
    "\n",
    "plt.plot(fpr_lr, tpr_lr, label=f'Logistic Regression (AUC = {roc_auc_lr})', color = 'blue')\n",
    "\n",
    "plt.plot([0, 1], [0, 1], linestyle = '--', color = 'red')\n",
    "plt.xlabel('False Positive Rate')\n",
    "plt.ylabel('True Positive Rate')\n",
    "plt.title('Logistic Regression ROC Curve Comparison')\n",
    "plt.legend(loc = 'lower right')\n",
    "plt.grid(True)\n",
    "plt.tight_layout()\n",
    "plt.show()"
   ]
  },
  {
   "cell_type": "markdown",
   "id": "0ddb62ba",
   "metadata": {},
   "source": [
    "#### Training a Random Forest Model"
   ]
  },
  {
   "cell_type": "code",
   "execution_count": 232,
   "id": "286d004d",
   "metadata": {},
   "outputs": [
    {
     "name": "stdout",
     "output_type": "stream",
     "text": [
      "              precision    recall  f1-score   support\n",
      "\n",
      "           0       0.97      1.00      0.98       147\n",
      "           1       1.00      0.64      0.78        14\n",
      "\n",
      "    accuracy                           0.97       161\n",
      "   macro avg       0.98      0.82      0.88       161\n",
      "weighted avg       0.97      0.97      0.97       161\n",
      "\n",
      "ROC AUC (RF): 0.9946550048590865\n"
     ]
    }
   ],
   "source": [
    "rf = RandomForestClassifier(random_state = 1234)\n",
    "rf.fit(X_train_smote, y_train_smote)\n",
    "y_pred_rf = rf.predict(X_test_scaled)\n",
    "y_proba_rf = rf.predict_proba(X_test_scaled)[:, 1]\n",
    "\n",
    "print(classification_report(y_test, y_pred_rf))\n",
    "print(\"ROC AUC (RF):\", roc_auc_score(y_test, y_proba_rf))"
   ]
  },
  {
   "cell_type": "markdown",
   "id": "9eeecd4d",
   "metadata": {},
   "source": [
    "> **Note:** The model has high precision but the recall is low. The model is favoring non-legendary predictions. I need to improve recall (so I can catch more legendaries), I will continue by adjusting the threshold."
   ]
  },
  {
   "cell_type": "markdown",
   "id": "1ea1384c",
   "metadata": {},
   "source": [
    "> **Note:** My model was previously overfitting. Every time the model predicted \"Legendary\", it was correct, But, it only caught half of the actual Legendary Pokémon. So,this meant there was **data leakage** or we didn't have enough test data. I removed two features **`base_total`** and **`capture_rate`**. Recall was previously **0.50**, it is now **0.64**."
   ]
  },
  {
   "cell_type": "markdown",
   "id": "75e9463c",
   "metadata": {},
   "source": [
    "#### Optimizing Threshold"
   ]
  },
  {
   "cell_type": "code",
   "execution_count": 233,
   "id": "92555333",
   "metadata": {},
   "outputs": [
    {
     "data": {
      "image/png": "[encoded data removed]",
      "text/plain": [
       "<Figure size 1000x600 with 1 Axes>"
      ]
     },
     "metadata": {},
     "output_type": "display_data"
    }
   ],
   "source": [
    "thresholds = np.arange(0.0, 1.01, 0.01)\n",
    "precision_scores = []\n",
    "recall_scores = []\n",
    "f1_scores = []\n",
    "\n",
    "for thresh in thresholds:\n",
    "    y_pred_thresh = (y_proba_rf >= thresh).astype(int)\n",
    "    precision_scores.append(precision_score(y_test, y_pred_thresh))\n",
    "    recall_scores.append(recall_score(y_test, y_pred_thresh))\n",
    "    f1_scores.append(f1_score(y_test, y_pred_thresh))\n",
    "\n",
    "plt.figure(figsize=(10, 6))\n",
    "plt.plot(thresholds, precision_scores, label = 'Precision', color = 'red')\n",
    "plt.plot(thresholds, recall_scores, label = 'Recall', color = 'green')\n",
    "plt.plot(thresholds, f1_scores, label = 'F1 Score', color = 'blue')\n",
    "plt.axvline(x = 0.40, linestyle = '--', label = 'Threshold (0.40)')\n",
    "plt.title(\"Precision, Recall, F1 vs Threshold\")\n",
    "plt.xlabel(\"Threshold\")\n",
    "plt.ylabel(\"Score\")\n",
    "plt.legend()\n",
    "plt.grid(True)\n",
    "plt.show()"
   ]
  },
  {
   "cell_type": "markdown",
   "id": "98fb17e1",
   "metadata": {},
   "source": [
    "> **Note:** I evaluated model's performance (precision, recall, F1) across different thresholds from **0.00 to 1.00**. I then plotted curves to visualize how metrics changed across different thresholds."
   ]
  },
  {
   "cell_type": "code",
   "execution_count": 234,
   "id": "e61aa45e",
   "metadata": {},
   "outputs": [
    {
     "name": "stdout",
     "output_type": "stream",
     "text": [
      "Optimal Threshold for Highest F1 Score: 0.31\n",
      "Highest F1 Score: 0.9032258064516129\n",
      "Precision: 0.8235294117647058, Recall: 1.0\n"
     ]
    }
   ],
   "source": [
    "best_idx = np.argmax(f1_scores)\n",
    "best_threshold = thresholds[best_idx]\n",
    "best_f1 = f1_scores[best_idx]\n",
    "\n",
    "print(f\"Optimal Threshold for Highest F1 Score: {best_threshold}\")\n",
    "print(f\"Highest F1 Score: {best_f1}\")\n",
    "print(f\"Precision: {precision_scores[best_idx]}, Recall: {recall_scores[best_idx]}\")"
   ]
  },
  {
   "cell_type": "markdown",
   "id": "5c3ee156",
   "metadata": {},
   "source": [
    "> **Note:** Here I am **maximizing F1** by balancing precision and recall, this ensures **no legendary Pokémon are missed** (recall = 1.0). I am caring a bit more about F1 because of the class imbalance."
   ]
  },
  {
   "cell_type": "markdown",
   "id": "e37293c4",
   "metadata": {},
   "source": [
    "#### Hyperparameter Tuning Random Forest with GridSearchCV"
   ]
  },
  {
   "cell_type": "code",
   "execution_count": 235,
   "id": "cdabb636",
   "metadata": {},
   "outputs": [
    {
     "name": "stdout",
     "output_type": "stream",
     "text": [
      "Fitting 5 folds for each of 216 candidates, totalling 1080 fits\n",
      "Best Parameters: {'class_weight': 'balanced', 'max_depth': None, 'max_features': 'sqrt', 'min_samples_leaf': 1, 'min_samples_split': 5, 'n_estimators': 300}\n"
     ]
    }
   ],
   "source": [
    "param_grid = {\n",
    "    'n_estimators': [100, 200, 300],\n",
    "    'max_depth': [None, 10, 20, 30],\n",
    "    'min_samples_split': [2, 5, 10],\n",
    "    'min_samples_leaf': [1, 2, 4],\n",
    "    'max_features': ['sqrt', 'log2'],\n",
    "    'class_weight': ['balanced']\n",
    "}\n",
    "\n",
    "rf = RandomForestClassifier(random_state = 1234)\n",
    "grid_search = GridSearchCV(rf, param_grid, cv = 5, scoring = 'f1', n_jobs = -1, verbose = 2)\n",
    "\n",
    "grid_search.fit(X_train_smote, y_train_smote)\n",
    "\n",
    "best_rf = grid_search.best_estimator_\n",
    "print(\"Best Parameters:\", grid_search.best_params_)"
   ]
  },
  {
   "cell_type": "markdown",
   "id": "2c22e971",
   "metadata": {},
   "source": [
    ">**Note:** Here, I am performing a grid search to optimize the Random Forest classifier with a focus on the **F1 score** as I would like a balance between precision and recall."
   ]
  },
  {
   "cell_type": "code",
   "execution_count": 236,
   "id": "395a2a96",
   "metadata": {},
   "outputs": [
    {
     "name": "stdout",
     "output_type": "stream",
     "text": [
      "\n",
      " Classification Report (Best RF at 0.31 threshold):\n",
      "              precision    recall  f1-score   support\n",
      "\n",
      "           0       1.00      0.98      0.99       147\n",
      "           1       0.82      1.00      0.90        14\n",
      "\n",
      "    accuracy                           0.98       161\n",
      "   macro avg       0.91      0.99      0.95       161\n",
      "weighted avg       0.98      0.98      0.98       161\n",
      "\n",
      "ROC AUC Score: 0.9961127308066083\n"
     ]
    }
   ],
   "source": [
    "best_rf_proba = best_rf.predict_proba(X_test_scaled)[:, 1]\n",
    "y_pred_best_thresh = (best_rf_proba >= 0.31).astype(int)\n",
    "\n",
    "print(\"\\n Classification Report (Best RF at 0.31 threshold):\")\n",
    "print(classification_report(y_test, y_pred_best_thresh))\n",
    "\n",
    "print(\"ROC AUC Score:\", roc_auc_score(y_test, best_rf_proba))"
   ]
  },
  {
   "cell_type": "markdown",
   "id": "f7e79517",
   "metadata": {},
   "source": [
    "#### ROC Curve for Random Forest"
   ]
  },
  {
   "cell_type": "code",
   "execution_count": null,
   "id": "77aa4b85",
   "metadata": {},
   "outputs": [
    {
     "data": {
      "image/png": "[encoded data removed]",
      "text/plain": [
       "<Figure size 640x480 with 1 Axes>"
      ]
     },
     "metadata": {},
     "output_type": "display_data"
    }
   ],
   "source": [
    "fpr_rf, tpr_rf, _ = roc_curve(y_test, best_rf_proba)\n",
    "roc_auc_rf = auc(fpr_rf, tpr_rf)\n",
    "\n",
    "plt.plot(fpr_rf, tpr_rf, label=f'Random Forest (AUC = {roc_auc_rf})', color = 'blue')\n",
    "plt.plot([0, 1], [0, 1], linestyle = '--', color = 'red')\n",
    "plt.xlabel('False Positive Rate')\n",
    "plt.ylabel('True Positive Rate')\n",
    "plt.title('ROC Curve Comparison')\n",
    "plt.legend(loc = 'lower right')\n",
    "plt.grid(True)\n",
    "plt.tight_layout()\n",
    "plt.show()"
   ]
  },
  {
   "cell_type": "markdown",
   "id": "a41ff6b6",
   "metadata": {},
   "source": [
    ">**Note:** The closer a curve hugs the top-left corner, the better the model's performance."
   ]
  },
  {
   "cell_type": "code",
   "execution_count": 259,
   "id": "fb80b905",
   "metadata": {},
   "outputs": [
    {
     "name": "stderr",
     "output_type": "stream",
     "text": [
      "C:\\Users\\andre\\AppData\\Local\\Temp\\ipykernel_27184\\2792022418.py:7: FutureWarning: \n",
      "\n",
      "Passing `palette` without assigning `hue` is deprecated and will be removed in v0.14.0. Assign the `y` variable to `hue` and set `legend=False` for the same effect.\n",
      "\n",
      "  sns.barplot(x = 'Importance', y = 'Features', data = rf_feat_df.head(10), palette = 'viridis')\n"
     ]
    },
    {
     "data": {
      "image/png": "[encoded data removed]",
      "text/plain": [
       "<Figure size 640x480 with 1 Axes>"
      ]
     },
     "metadata": {},
     "output_type": "display_data"
    }
   ],
   "source": [
    "rf_importances = best_rf.feature_importances_\n",
    "rf_features = X.columns\n",
    "\n",
    "rf_feat_df = pd.DataFrame({'Features': rf_features, 'Importance': rf_importances})\n",
    "rf_feat_df = rf_feat_df.sort_values(by= 'Importance', ascending = False)\n",
    "\n",
    "sns.barplot(x = 'Importance', y = 'Features', data = rf_feat_df.head(10), palette = 'viridis')\n",
    "plt.title('Top 10 Feature Importances (Random Forest)')\n",
    "plt.tight_layout()\n",
    "plt.show()"
   ]
  },
  {
   "cell_type": "markdown",
   "id": "6e410c61",
   "metadata": {},
   "source": [
    "#### Random Forest Cross-validation (Done Before Hyperparameter Tuning)"
   ]
  },
  {
   "cell_type": "code",
   "execution_count": 237,
   "id": "e3e849be",
   "metadata": {},
   "outputs": [
    {
     "data": {
      "text/plain": [
       "'\\ncv = StratifiedKFold(n_splits = 5, shuffle = True, random_state = 1234)\\nscores = cross_val_score(rf, X_train_smote, y_train_smote, cv = cv, scoring = \\'roc_auc\\')\\nprint(\"Cross-validated AUC scores:\", scores)\\nprint(\"Mean AUC:\", scores.mean())\\n'"
      ]
     },
     "execution_count": 237,
     "metadata": {},
     "output_type": "execute_result"
    }
   ],
   "source": [
    "'''\n",
    "cv = StratifiedKFold(n_splits = 5, shuffle = True, random_state = 1234)\n",
    "scores = cross_val_score(rf, X_train_smote, y_train_smote, cv = cv, scoring = 'roc_auc')\n",
    "print(\"Cross-validated AUC scores:\", scores)\n",
    "print(\"Mean AUC:\", scores.mean())\n",
    "'''"
   ]
  },
  {
   "cell_type": "markdown",
   "id": "06202f0d",
   "metadata": {},
   "source": [
    ">**Note:** I performed a cross-validation to make sure that the model was not overfitting (which it was as there was a data leak)."
   ]
  },
  {
   "cell_type": "markdown",
   "id": "00a2edfc",
   "metadata": {},
   "source": [
    "#### Feature Importance Visualization (Done Before Hyperparameter Tuning)"
   ]
  },
  {
   "cell_type": "code",
   "execution_count": 260,
   "id": "2db32c08",
   "metadata": {},
   "outputs": [
    {
     "data": {
      "text/plain": [
       "'\\nimportances = rf.feature_importances_\\nfeatures = X_train.columns\\n\\nfeat_df = pd.DataFrame({\\'Feature\\': features, \\'Importance\\': importances})\\nfeat_df = feat_df.sort_values(by=\\'Importance\\', ascending = False)\\n\\nprint(feat_df.head(10))\\n\\nsns.barplot(x = \\'Importance\\', y = \\'Feature\\', data = feat_df.head(10), palette = \\'Blues_d\\')\\nplt.title(\"Top 10 Feature Importances (Random Forest)\")\\nplt.show()\\n'"
      ]
     },
     "execution_count": 260,
     "metadata": {},
     "output_type": "execute_result"
    }
   ],
   "source": [
    "'''\n",
    "importances = rf.feature_importances_\n",
    "features = X_train.columns\n",
    "\n",
    "feat_df = pd.DataFrame({'Feature': features, 'Importance': importances})\n",
    "feat_df = feat_df.sort_values(by='Importance', ascending = False)\n",
    "\n",
    "print(feat_df.head(10))\n",
    "\n",
    "sns.barplot(x = 'Importance', y = 'Feature', data = feat_df.head(10), palette = 'Blues_d')\n",
    "plt.title(\"Top 10 Feature Importances (Random Forest)\")\n",
    "plt.show()\n",
    "'''\n"
   ]
  },
  {
   "cell_type": "markdown",
   "id": "d8ee2dd2",
   "metadata": {},
   "source": [
    ">**Note:** I visualized feature importance to make sure that the model was not overfitting (this led to the decision of dropping **`base_total`** and **`capture_rate`**)."
   ]
  },
  {
   "cell_type": "markdown",
   "id": "0c21aa7e",
   "metadata": {},
   "source": [
    "#### Tuning Decision Threshold (Done Before Hyperparameter Tuning)"
   ]
  },
  {
   "cell_type": "code",
   "execution_count": 239,
   "id": "8375b9b1",
   "metadata": {},
   "outputs": [
    {
     "name": "stdout",
     "output_type": "stream",
     "text": [
      "              precision    recall  f1-score   support\n",
      "\n",
      "           0       0.98      0.99      0.98       147\n",
      "           1       0.85      0.79      0.81        14\n",
      "\n",
      "    accuracy                           0.97       161\n",
      "   macro avg       0.91      0.89      0.90       161\n",
      "weighted avg       0.97      0.97      0.97       161\n",
      "\n"
     ]
    }
   ],
   "source": [
    "precision, recall, thresholds = precision_recall_curve(y_test, y_proba_rf)\n",
    "\n",
    "custom_threshold = 0.4\n",
    "y_pred_custom = (y_proba_rf >= custom_threshold).astype(int)\n",
    "\n",
    "print(classification_report(y_test, y_pred_custom))"
   ]
  },
  {
   "cell_type": "markdown",
   "id": "09d36586",
   "metadata": {},
   "source": [
    ">**Note:** It appears recall improved at the cost of precision. Here we increased model sensitivity to the minority class (legendaries). Though it costed us precision, our precision is still good."
   ]
  },
  {
   "cell_type": "markdown",
   "id": "1af67051",
   "metadata": {},
   "source": [
    "#### Training a XGBoost Model"
   ]
  },
  {
   "cell_type": "code",
   "execution_count": 240,
   "id": "2ebbadf4",
   "metadata": {},
   "outputs": [
    {
     "name": "stdout",
     "output_type": "stream",
     "text": [
      "XGBoost Classification Report:\n",
      "              precision    recall  f1-score   support\n",
      "\n",
      "           0       0.97      0.99      0.98       147\n",
      "           1       0.90      0.64      0.75        14\n",
      "\n",
      "    accuracy                           0.96       161\n",
      "   macro avg       0.93      0.82      0.86       161\n",
      "weighted avg       0.96      0.96      0.96       161\n",
      "\n",
      "ROC AUC Score: 0.9941690962099126\n"
     ]
    },
    {
     "name": "stderr",
     "output_type": "stream",
     "text": [
      "C:\\Users\\andre\\AppData\\Local\\Packages\\PythonSoftwareFoundation.Python.3.10_qbz5n2kfra8p0\\LocalCache\\local-packages\\Python310\\site-packages\\xgboost\\training.py:183: UserWarning: [12:19:59] WARNING: C:\\actions-runner\\_work\\xgboost\\xgboost\\src\\learner.cc:738: \n",
      "Parameters: { \"use_label_encoder\" } are not used.\n",
      "\n",
      "  bst.update(dtrain, iteration=i, fobj=obj)\n"
     ]
    }
   ],
   "source": [
    "xgb_model = XGBClassifier(use_label_encoder = False, eval_metric = 'logloss', random_state = 1234)\n",
    "xgb_model.fit(X_train_smote, y_train_smote)\n",
    "\n",
    "xgb_preds = xgb_model.predict(X_test_scaled)\n",
    "xgb_proba = xgb_model.predict_proba(X_test_scaled)[:, 1]\n",
    "\n",
    "\n",
    "print(\"XGBoost Classification Report:\")\n",
    "print(classification_report(y_test, xgb_preds))\n",
    "print(\"ROC AUC Score:\", roc_auc_score(y_test, xgb_proba))"
   ]
  },
  {
   "cell_type": "markdown",
   "id": "213e2621",
   "metadata": {},
   "source": [
    ">**Note:** Compared to the Random Forest model, XGBoost achieves higher precision **(0.90 vs 0.87)** but lower recall **(0.64 vs 0.71)** for Legendary Pokémon. This means XGBoost is more accurate when it predicts a Pokémon is Legendary, but it misses more actual Legendaries."
   ]
  },
  {
   "cell_type": "markdown",
   "id": "3a303184",
   "metadata": {},
   "source": [
    "#### Tuning XGBoost Threshold"
   ]
  },
  {
   "cell_type": "code",
   "execution_count": 241,
   "id": "d7e866a7",
   "metadata": {},
   "outputs": [
    {
     "name": "stdout",
     "output_type": "stream",
     "text": [
      "XGBoost Classification Report at 0.31 Threshold:\n",
      "              precision    recall  f1-score   support\n",
      "\n",
      "           0       0.97      0.99      0.98       147\n",
      "           1       0.91      0.71      0.80        14\n",
      "\n",
      "    accuracy                           0.97       161\n",
      "   macro avg       0.94      0.85      0.89       161\n",
      "weighted avg       0.97      0.97      0.97       161\n",
      "\n",
      "ROC AUC: 0.9941690962099126\n"
     ]
    }
   ],
   "source": [
    "xgb_pred_thresh = (xgb_proba >= 0.31).astype(int)\n",
    "print(\"XGBoost Classification Report at 0.31 Threshold:\")\n",
    "print(classification_report(y_test, xgb_pred_thresh))\n",
    "print(\"ROC AUC:\", roc_auc_score(y_test, xgb_proba))"
   ]
  },
  {
   "cell_type": "markdown",
   "id": "01272cdd",
   "metadata": {},
   "source": [
    "#### Tuning XGBoost Hyperparameter"
   ]
  },
  {
   "cell_type": "code",
   "execution_count": null,
   "id": "da94a766",
   "metadata": {},
   "outputs": [
    {
     "name": "stdout",
     "output_type": "stream",
     "text": [
      "Fitting 5 folds for each of 30 candidates, totalling 150 fits\n"
     ]
    },
    {
     "name": "stderr",
     "output_type": "stream",
     "text": [
      "C:\\Users\\andre\\AppData\\Local\\Packages\\PythonSoftwareFoundation.Python.3.10_qbz5n2kfra8p0\\LocalCache\\local-packages\\Python310\\site-packages\\xgboost\\training.py:183: UserWarning: [12:20:00] WARNING: C:\\actions-runner\\_work\\xgboost\\xgboost\\src\\learner.cc:738: \n",
      "Parameters: { \"use_label_encoder\" } are not used.\n",
      "\n",
      "  bst.update(dtrain, iteration=i, fobj=obj)\n"
     ]
    }
   ],
   "source": [
    "param_dist = {\n",
    "    'n_estimators': randint(100, 300),\n",
    "    'max_depth': [3, 5, 7, 10],\n",
    "    'learning_rate': uniform(0.01, 0.3),\n",
    "    'subsample': uniform(0.7, 0.3),\n",
    "    'colsample_bytree': uniform(0.7, 0.3),\n",
    "    'gamma': uniform(0, 5),\n",
    "    'scale_pos_weight': [1, 3, 5],\n",
    "}\n",
    "\n",
    "xgb = XGBClassifier(use_label_encoder = False, eval_metric = 'logloss', random_state = 1234)\n",
    "\n",
    "xgb_search = RandomizedSearchCV(\n",
    "    estimator = xgb,\n",
    "    param_distributions=param_dist,\n",
    "    n_iter = 30,\n",
    "    cv = 5,\n",
    "    scoring = 'f1',\n",
    "    verbose = 2,\n",
    "    n_jobs = -1\n",
    ")\n",
    "\n",
    "xgb_search.fit(X_train_smote, y_train_smote)\n",
    "best_xgb = xgb_search.best_estimator_\n",
    "#print(\"Best Parameters:\", best_xgb)\n"
   ]
  },
  {
   "cell_type": "code",
   "execution_count": 243,
   "id": "69873359",
   "metadata": {},
   "outputs": [
    {
     "name": "stdout",
     "output_type": "stream",
     "text": [
      "Tuned XGBoost Report at 0.31 Threshold\n",
      "              precision    recall  f1-score   support\n",
      "\n",
      "           0       0.99      0.99      0.99       147\n",
      "           1       0.92      0.86      0.89        14\n",
      "\n",
      "    accuracy                           0.98       161\n",
      "   macro avg       0.95      0.93      0.94       161\n",
      "weighted avg       0.98      0.98      0.98       161\n",
      "\n",
      "ROC AUC Score: 0.9970845481049563\n"
     ]
    }
   ],
   "source": [
    "\n",
    "xgb_proba = best_xgb.predict_proba(X_test_scaled)[:, 1]\n",
    "xgb_thresh_preds = (xgb_proba >= 0.31).astype(int)\n",
    "\n",
    "print(\"Tuned XGBoost Report at 0.31 Threshold\")\n",
    "print(classification_report(y_test, xgb_thresh_preds))\n",
    "print(\"ROC AUC Score:\", roc_auc_score(y_test, xgb_proba))"
   ]
  },
  {
   "cell_type": "markdown",
   "id": "a3de6387",
   "metadata": {},
   "source": [
    ">**Note:** After tuning the threshold to 0.31 and conducting a RandomSearch, the XGBoost model shows a significant improvement in recall **(0.86 vs 0.64)** and overall F1-score **(0.89)** for Legendary Pokémon, while maintaining high precision **(0.92)**. Compared to the Random Forest model, it now offers better balance between catching more Legendaries and avoiding false positives, with a near-perfect ROC AUC of **0.997**"
   ]
  },
  {
   "cell_type": "markdown",
   "id": "c6451579",
   "metadata": {},
   "source": [
    "#### ROC Curve for XGBoost"
   ]
  },
  {
   "cell_type": "code",
   "execution_count": 251,
   "id": "7f0fb541",
   "metadata": {},
   "outputs": [
    {
     "data": {
      "image/png": "[encoded data removed]",
      "text/plain": [
       "<Figure size 640x480 with 1 Axes>"
      ]
     },
     "metadata": {},
     "output_type": "display_data"
    }
   ],
   "source": [
    "fpr_xgb, tpr_xgb, _ = roc_curve(y_test, xgb_proba)\n",
    "roc_auc_xgb = auc(fpr_xgb, tpr_xgb)\n",
    "\n",
    "plt.plot(fpr_xgb, tpr_xgb, label=f'XGBoost (AUC = {roc_auc_xgb})', color = 'blue')\n",
    "\n",
    "plt.plot([0, 1], [0, 1], linestyle = '--', color = 'red')\n",
    "plt.xlabel('False Positive Rate')\n",
    "plt.ylabel('True Positive Rate')\n",
    "plt.title('XGBoost ROC Curve Comparison')\n",
    "plt.legend(loc = 'lower right')\n",
    "plt.grid(True)\n",
    "plt.tight_layout()\n",
    "plt.show()"
   ]
  },
  {
   "cell_type": "markdown",
   "id": "75544889",
   "metadata": {},
   "source": [
    "---\n",
    "\n",
    "## Conclusion\n",
    "\n",
    "- The best performing model was the Random Forest tuned using GridSearch as it had a higher F1 score.\n",
    "- By adjusting the decision threshold to 0.31, recall improved without sacrificing much precision.\n",
    "- Important features included: a Pokemons `sp_attack`, `sp_defense`, `hp` and `experience_growth`.\n",
    "\n",
    "---\n",
    "\n",
    "## Future Improvements\n",
    "\n",
    "- Include SHAP values for model interpretability.\n",
    "- Try deep learning approaches or ensemble stacking.\n"
   ]
  }
 ],
 "metadata": {
  "kernelspec": {
   "display_name": "Python 3",
   "language": "python",
   "name": "python3"
  },
  "language_info": {
   "codemirror_mode": {
    "name": "ipython",
    "version": 3
   },
   "file_extension": ".py",
   "mimetype": "text/x-python",
   "name": "python",
   "nbconvert_exporter": "python",
   "pygments_lexer": "ipython3",
   "version": "3.10.11"
  }
 },
 "nbformat": 4,
 "nbformat_minor": 5
}
