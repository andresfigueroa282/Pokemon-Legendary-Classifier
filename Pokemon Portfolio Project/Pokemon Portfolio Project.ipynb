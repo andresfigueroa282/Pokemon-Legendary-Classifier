{
 "cells": [
  {
   "cell_type": "markdown",
   "id": "fff93001",
   "metadata": {},
   "source": [
    "Name: Andres Figueroa\n",
    "\n",
    "Email: andresfigueroa@brandeis.edu\n",
    "\n",
    "Description: The goal of this project is to build a model that predicts whether a pokemon is Legendary or not based on\n",
    "its stats and other features.\n",
    "\n",
    "        * Machine Learning Type: Binary Classification (True or False, Legendary or Not)\n",
    "\n",
    "        * What will determine success is accuracy and precision ( we don't want to falsely classify weak pokemon as \n",
    "          legendary)\n"
   ]
  },
  {
   "cell_type": "markdown",
   "id": "0c4d6838",
   "metadata": {},
   "source": [
    "# Loading and Exploring Data"
   ]
  },
  {
   "cell_type": "code",
   "execution_count": 1,
   "id": "6601ce49",
   "metadata": {},
   "outputs": [
    {
     "name": "stdout",
     "output_type": "stream",
     "text": [
      "Index(['abilities', 'against_bug', 'against_dark', 'against_dragon',\n",
      "       'against_electric', 'against_fairy', 'against_fight', 'against_fire',\n",
      "       'against_flying', 'against_ghost', 'against_grass', 'against_ground',\n",
      "       'against_ice', 'against_normal', 'against_poison', 'against_psychic',\n",
      "       'against_rock', 'against_steel', 'against_water', 'attack',\n",
      "       'base_egg_steps', 'base_happiness', 'base_total', 'capture_rate',\n",
      "       'classfication', 'defense', 'experience_growth', 'height_m', 'hp',\n",
      "       'japanese_name', 'name', 'percentage_male', 'pokedex_number',\n",
      "       'sp_attack', 'sp_defense', 'speed', 'type1', 'type2', 'weight_kg',\n",
      "       'generation', 'is_legendary'],\n",
      "      dtype='object')\n",
      "                     abilities  against_bug  against_dark  against_dragon  \\\n",
      "0  ['Overgrow', 'Chlorophyll']          1.0           1.0             1.0   \n",
      "1  ['Overgrow', 'Chlorophyll']          1.0           1.0             1.0   \n",
      "2  ['Overgrow', 'Chlorophyll']          1.0           1.0             1.0   \n",
      "3     ['Blaze', 'Solar Power']          0.5           1.0             1.0   \n",
      "4     ['Blaze', 'Solar Power']          0.5           1.0             1.0   \n",
      "\n",
      "   against_electric  against_fairy  against_fight  against_fire  \\\n",
      "0               0.5            0.5            0.5           2.0   \n",
      "1               0.5            0.5            0.5           2.0   \n",
      "2               0.5            0.5            0.5           2.0   \n",
      "3               1.0            0.5            1.0           0.5   \n",
      "4               1.0            0.5            1.0           0.5   \n",
      "\n",
      "   against_flying  against_ghost  ...  percentage_male  pokedex_number  \\\n",
      "0             2.0            1.0  ...             88.1               1   \n",
      "1             2.0            1.0  ...             88.1               2   \n",
      "2             2.0            1.0  ...             88.1               3   \n",
      "3             1.0            1.0  ...             88.1               4   \n",
      "4             1.0            1.0  ...             88.1               5   \n",
      "\n",
      "   sp_attack  sp_defense  speed  type1   type2  weight_kg  generation  \\\n",
      "0         65          65     45  grass  poison        6.9           1   \n",
      "1         80          80     60  grass  poison       13.0           1   \n",
      "2        122         120     80  grass  poison      100.0           1   \n",
      "3         60          50     65   fire     NaN        8.5           1   \n",
      "4         80          65     80   fire     NaN       19.0           1   \n",
      "\n",
      "   is_legendary  \n",
      "0             0  \n",
      "1             0  \n",
      "2             0  \n",
      "3             0  \n",
      "4             0  \n",
      "\n",
      "[5 rows x 41 columns]\n"
     ]
    }
   ],
   "source": [
    "import pandas as pd\n",
    "\n",
    "df = pd.read_csv('pokemon.csv')\n",
    "\n",
    "print(df.columns)\n",
    "print(df.head())"
   ]
  },
  {
   "cell_type": "markdown",
   "id": "a70fa1ed",
   "metadata": {},
   "source": [
    "Our label will be 'is_legendary'"
   ]
  },
  {
   "cell_type": "markdown",
   "id": "0f97a028",
   "metadata": {},
   "source": [
    "# Cleaning and Preparing Data"
   ]
  },
  {
   "cell_type": "code",
   "execution_count": 7,
   "id": "749e009e",
   "metadata": {},
   "outputs": [
    {
     "data": {
      "text/plain": [
       "Index(['attack', 'base_happiness', 'base_total', 'capture_rate', 'defense',\n",
       "       'experience_growth', 'height_m', 'hp', 'sp_attack', 'sp_defense',\n",
       "       'speed', 'weight_kg', 'is_legendary'],\n",
       "      dtype='object')"
      ]
     },
     "execution_count": 7,
     "metadata": {},
     "output_type": "execute_result"
    }
   ],
   "source": [
    "to_drop = ['abilities', 'name', 'percentage_male', 'pokedex_number', 'generation', 'type1', 'type2', 'japanese_name', 'base_egg_steps', 'classfication'] # Some features that I think are irrelevant to the problem\n",
    "df = df.drop(columns = to_drop, errors = 'ignore')\n",
    "\n",
    "to_keep = []\n",
    "for col in df.columns:\n",
    "    if 'against' not in col: # I want to get rid of all features with 'against' because their weakness tell us nothing about whether they are legendary or not\n",
    "        to_keep.append(col)\n",
    "\n",
    "df = df[to_keep]\n",
    "#print(df.dtypes)\n",
    "df['capture_rate'] = pd.to_numeric(df['capture_rate'], errors='coerce')  # safely convert to float or int#print(df.dtypes)\n",
    "df = df.dropna()\n",
    "\n",
    "df.columns"
   ]
  },
  {
   "cell_type": "markdown",
   "id": "4c03f5ed",
   "metadata": {},
   "source": [
    "Explanation:\n",
    "The variable 'to_drop' has a bunch of features that are irrelevant to the ML problem (whether a pokemon is Legendary or not), so they're going to be dropped.\n",
    "\n",
    "I dropped the all columns (features) with 'against' because their weakness tell us nothing about whether they are legendary or not.\n",
    "\n",
    "I decided to drop the feature 'base_egg_steps' because legendary pokemon don't hatch from eggs and this will essentially cause a data leakage, giving the model the answers rather than learning anything.\n",
    "\n",
    "'capture_rate' was of the object type, specifically a string. So, I converted it to a numerical value"
   ]
  },
  {
   "cell_type": "markdown",
   "id": "4a7a27e8",
   "metadata": {},
   "source": [
    "# Defining Label and Features"
   ]
  },
  {
   "cell_type": "code",
   "execution_count": 3,
   "id": "91d6fa60",
   "metadata": {},
   "outputs": [],
   "source": [
    "y = df['is_legendary']\n",
    "X = df.drop(columns = 'is_legendary')"
   ]
  },
  {
   "cell_type": "markdown",
   "id": "b468a492",
   "metadata": {},
   "source": [
    "# Splitting the Data, Train and Test"
   ]
  },
  {
   "cell_type": "code",
   "execution_count": null,
   "id": "d7fde237",
   "metadata": {},
   "outputs": [],
   "source": [
    "from sklearn.model_selection import train_test_split\n",
    "\n",
    "X_train, X_test, y_train, y_test = train_test_split(X, y, test_size = 0.2, random_state = 1234, stratify = y)"
   ]
  },
  {
   "cell_type": "markdown",
   "id": "0b626caa",
   "metadata": {},
   "source": [
    "I chose to stratify to make sure that the class distribution stays the same in both the training and test datasets. Legendary pokemon are rare, so I wanna make sure that each dataset actually has legendary pokemon in it."
   ]
  },
  {
   "cell_type": "markdown",
   "id": "0ddb62ba",
   "metadata": {},
   "source": [
    "# Training a Decision Tree"
   ]
  },
  {
   "cell_type": "code",
   "execution_count": 5,
   "id": "286d004d",
   "metadata": {},
   "outputs": [
    {
     "name": "stdout",
     "output_type": "stream",
     "text": [
      "Accuracy: 0.9871794871794872\n",
      "              precision    recall  f1-score   support\n",
      "\n",
      "           0       1.00      0.99      0.99       142\n",
      "           1       0.88      1.00      0.93        14\n",
      "\n",
      "    accuracy                           0.99       156\n",
      "   macro avg       0.94      0.99      0.96       156\n",
      "weighted avg       0.99      0.99      0.99       156\n",
      "\n"
     ]
    }
   ],
   "source": [
    "from sklearn.tree import DecisionTreeClassifier\n",
    "from sklearn.metrics import accuracy_score, classification_report\n",
    "\n",
    "dt = DecisionTreeClassifier(max_depth=4, random_state=42)\n",
    "dt.fit(X_train, y_train)\n",
    "\n",
    "y_pred = dt.predict(X_test)\n",
    "\n",
    "print(\"Accuracy:\", accuracy_score(y_test, y_pred))\n",
    "print(classification_report(y_test, y_pred))"
   ]
  },
  {
   "cell_type": "markdown",
   "id": "2480ecfd",
   "metadata": {},
   "source": [
    "The values above are performance metrics (\"accuracy\", \"precision\", \"recall\", \"f1-score\"), numbers that help us measure how well a model's predictions were. \n",
    "\n",
    "Accuracy tells us how many of the total predictions were correct out of all the predictions (.9871).\n",
    "\n",
    "Precision tells us how many the the predicted legendary pokemon were actually legendary (0.88).\n",
    "\n",
    "Recall tells us how many legendary pokemon were found out of all the actual legendary pokemon (1.00)\n",
    "\n",
    "F1-Score gives us the balance between precision and recall\n",
    "\n",
    "Support is the number of legendary pokemon in the set.\n",
    "\n",
    "The model catches all legendary pokemon with a 100% recall. The model is very accurate (0.9871), but there are some false positives (precision at 0.88)."
   ]
  }
 ],
 "metadata": {
  "kernelspec": {
   "display_name": "base",
   "language": "python",
   "name": "python3"
  },
  "language_info": {
   "codemirror_mode": {
    "name": "ipython",
    "version": 3
   },
   "file_extension": ".py",
   "mimetype": "text/x-python",
   "name": "python",
   "nbconvert_exporter": "python",
   "pygments_lexer": "ipython3",
   "version": "3.8.8"
  }
 },
 "nbformat": 4,
 "nbformat_minor": 5
}
