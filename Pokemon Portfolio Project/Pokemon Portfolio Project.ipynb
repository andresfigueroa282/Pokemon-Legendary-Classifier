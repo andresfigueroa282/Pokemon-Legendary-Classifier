{
 "cells": [
  {
   "cell_type": "markdown",
   "id": "fff93001",
   "metadata": {},
   "source": [
    "Name: Andres Figueroa\n",
    "\n",
    "Email: andresfigueroa@brandeis.edu\n",
    "\n",
    "Description: The goal of this project is to build a model that predicts whether a pokemon is Legendary or not based on\n",
    "its stats and other features.\n"
   ]
  },
  {
   "cell_type": "code",
   "execution_count": 59,
   "id": "9684e87f",
   "metadata": {},
   "outputs": [],
   "source": [
    "import pandas as pd\n",
    "import numpy as np\n",
    "import os \n",
    "import matplotlib.pyplot as plt\n",
    "import seaborn as sns\n",
    "from sklearn.model_selection import train_test_split\n",
    "from sklearn.preprocessing import StandardScaler\n",
    "from imblearn.over_sampling import SMOTE\n",
    "from sklearn.linear_model import LogisticRegression\n",
    "from sklearn.metrics import classification_report, confusion_matrix, roc_auc_score\n",
    "from sklearn.ensemble import RandomForestClassifier\n",
    "from xgboost import XGBClassifier"
   ]
  },
  {
   "cell_type": "markdown",
   "id": "0c4d6838",
   "metadata": {},
   "source": [
    "---\n",
    "#### Building Our DataFrame"
   ]
  },
  {
   "cell_type": "code",
   "execution_count": 43,
   "id": "6601ce49",
   "metadata": {},
   "outputs": [
    {
     "name": "stdout",
     "output_type": "stream",
     "text": [
      "Index(['abilities', 'against_bug', 'against_dark', 'against_dragon',\n",
      "       'against_electric', 'against_fairy', 'against_fight', 'against_fire',\n",
      "       'against_flying', 'against_ghost', 'against_grass', 'against_ground',\n",
      "       'against_ice', 'against_normal', 'against_poison', 'against_psychic',\n",
      "       'against_rock', 'against_steel', 'against_water', 'attack',\n",
      "       'base_egg_steps', 'base_happiness', 'base_total', 'capture_rate',\n",
      "       'classfication', 'defense', 'experience_growth', 'height_m', 'hp',\n",
      "       'japanese_name', 'name', 'percentage_male', 'pokedex_number',\n",
      "       'sp_attack', 'sp_defense', 'speed', 'type1', 'type2', 'weight_kg',\n",
      "       'generation', 'is_legendary'],\n",
      "      dtype='object')\n",
      "                     abilities  against_bug  against_dark  against_dragon  \\\n",
      "0  ['Overgrow', 'Chlorophyll']          1.0           1.0             1.0   \n",
      "1  ['Overgrow', 'Chlorophyll']          1.0           1.0             1.0   \n",
      "2  ['Overgrow', 'Chlorophyll']          1.0           1.0             1.0   \n",
      "3     ['Blaze', 'Solar Power']          0.5           1.0             1.0   \n",
      "4     ['Blaze', 'Solar Power']          0.5           1.0             1.0   \n",
      "\n",
      "   against_electric  against_fairy  against_fight  against_fire  \\\n",
      "0               0.5            0.5            0.5           2.0   \n",
      "1               0.5            0.5            0.5           2.0   \n",
      "2               0.5            0.5            0.5           2.0   \n",
      "3               1.0            0.5            1.0           0.5   \n",
      "4               1.0            0.5            1.0           0.5   \n",
      "\n",
      "   against_flying  against_ghost  ...  percentage_male  pokedex_number  \\\n",
      "0             2.0            1.0  ...             88.1               1   \n",
      "1             2.0            1.0  ...             88.1               2   \n",
      "2             2.0            1.0  ...             88.1               3   \n",
      "3             1.0            1.0  ...             88.1               4   \n",
      "4             1.0            1.0  ...             88.1               5   \n",
      "\n",
      "   sp_attack  sp_defense  speed  type1   type2  weight_kg  generation  \\\n",
      "0         65          65     45  grass  poison        6.9           1   \n",
      "1         80          80     60  grass  poison       13.0           1   \n",
      "2        122         120     80  grass  poison      100.0           1   \n",
      "3         60          50     65   fire     NaN        8.5           1   \n",
      "4         80          65     80   fire     NaN       19.0           1   \n",
      "\n",
      "   is_legendary  \n",
      "0             0  \n",
      "1             0  \n",
      "2             0  \n",
      "3             0  \n",
      "4             0  \n",
      "\n",
      "[5 rows x 41 columns]\n"
     ]
    }
   ],
   "source": [
    "df = pd.read_csv('pokemon.csv')\n",
    "\n",
    "print(df.columns)\n",
    "print(df.head())"
   ]
  },
  {
   "cell_type": "code",
   "execution_count": 44,
   "id": "d1317574",
   "metadata": {},
   "outputs": [
    {
     "data": {
      "text/plain": [
       "abilities             object\n",
       "against_bug          float64\n",
       "against_dark         float64\n",
       "against_dragon       float64\n",
       "against_electric     float64\n",
       "against_fairy        float64\n",
       "against_fight        float64\n",
       "against_fire         float64\n",
       "against_flying       float64\n",
       "against_ghost        float64\n",
       "against_grass        float64\n",
       "against_ground       float64\n",
       "against_ice          float64\n",
       "against_normal       float64\n",
       "against_poison       float64\n",
       "against_psychic      float64\n",
       "against_rock         float64\n",
       "against_steel        float64\n",
       "against_water        float64\n",
       "attack                 int64\n",
       "base_egg_steps         int64\n",
       "base_happiness         int64\n",
       "base_total             int64\n",
       "capture_rate          object\n",
       "classfication         object\n",
       "defense                int64\n",
       "experience_growth      int64\n",
       "height_m             float64\n",
       "hp                     int64\n",
       "japanese_name         object\n",
       "name                  object\n",
       "percentage_male      float64\n",
       "pokedex_number         int64\n",
       "sp_attack              int64\n",
       "sp_defense             int64\n",
       "speed                  int64\n",
       "type1                 object\n",
       "type2                 object\n",
       "weight_kg            float64\n",
       "generation             int64\n",
       "is_legendary           int64\n",
       "dtype: object"
      ]
     },
     "execution_count": 44,
     "metadata": {},
     "output_type": "execute_result"
    }
   ],
   "source": [
    "df.dtypes"
   ]
  },
  {
   "cell_type": "markdown",
   "id": "a10d5959",
   "metadata": {},
   "source": [
    "---"
   ]
  },
  {
   "cell_type": "markdown",
   "id": "0f97a028",
   "metadata": {},
   "source": [
    "#### Defining Our ML Problem"
   ]
  },
  {
   "cell_type": "markdown",
   "id": "3d2a7bee",
   "metadata": {},
   "source": [
    "\n",
    "##### Dataset Explanation\n",
    "The dataset I chose contains information on all 802 Pokémon from seven generations. It includes statistics such as base stats, types, abilities, height, weight, egg steps, capture rate, experience growth, and more.\n",
    "\n",
    "\n",
    "##### What We Are Predicting (Label)\n",
    "The label I will be predicting is 'is_legendary'. This is a binary feature as there are two classifications whether a Pokémon is legendary or not.\n",
    "\n",
    "\n",
    "##### Problem Type\n",
    "This is a supervised learning problem, because we are training a model using labeled data where the target (is_legendary) is known.\n",
    "\n",
    "It is a classification problem, a binary classification problem, since the model is predicting one of two things: legendary or not legendary.\n",
    "\n",
    "\n",
    "\n",
    "##### Importance\n",
    "Though this project is a personal work (I liked pokemon growing up), this project can be used for companies or developers working on games, to enrich user interaction, balance game dynamics, and target content creation around Pokémon classification.\n",
    "\n",
    "---"
   ]
  },
  {
   "cell_type": "markdown",
   "id": "8b308c72",
   "metadata": {},
   "source": [
    "#### Understanding Our Data"
   ]
  },
  {
   "cell_type": "markdown",
   "id": "26a98ea8",
   "metadata": {},
   "source": [
    "##### Missing Data"
   ]
  },
  {
   "cell_type": "code",
   "execution_count": 45,
   "id": "715c90d3",
   "metadata": {},
   "outputs": [
    {
     "data": {
      "text/plain": [
       "height_m            20\n",
       "percentage_male     98\n",
       "type2              384\n",
       "weight_kg           20\n",
       "dtype: int64"
      ]
     },
     "execution_count": 45,
     "metadata": {},
     "output_type": "execute_result"
    }
   ],
   "source": [
    "df.isnull().sum()[df.isnull().sum() > 0]"
   ]
  },
  {
   "cell_type": "markdown",
   "id": "649650e3",
   "metadata": {},
   "source": [
    "##### Note:\n",
    "While 'height_m' and 'weight_kg' are numerical features, I will probably drop the following features because pokemon, even legendary, can range from big to small and I believe that height and weight have no bearing on whether a pokemon is legendary or not. I believe the same with types, a legendary pokemon can have almost any typing, so I will probably drop type1 and type2. 'percentage_male' is interesting because I remembered that there are genderless pokemon which explains the missing values. Still I believe gender doesn't play a role in determining whether a pokemon is legendary or not. As I remove these features, I am simplifying the dataset and avoiding unnecessary noise."
   ]
  },
  {
   "cell_type": "markdown",
   "id": "67148b3f",
   "metadata": {},
   "source": [
    "#### Visualizing Potential Outliers"
   ]
  },
  {
   "cell_type": "code",
   "execution_count": 46,
   "id": "23e5acb7",
   "metadata": {},
   "outputs": [
    {
     "data": {
      "image/png": "[encoded data removed]",
      "text/plain": [
       "<Figure size 640x480 with 7 Axes>"
      ]
     },
     "metadata": {},
     "output_type": "display_data"
    }
   ],
   "source": [
    "outlier_features = ['hp', 'attack', 'defense', 'sp_attack', 'sp_defense', 'speed', 'base_total']\n",
    "\n",
    "for i, feature in enumerate(outlier_features, 1):\n",
    "    plt.subplot(3, 3, i)\n",
    "    sns.boxplot(x = df[feature])\n",
    "    plt.title(f'Boxplot of {feature}')\n",
    "\n",
    "plt.tight_layout()\n",
    "plt.show()"
   ]
  },
  {
   "cell_type": "markdown",
   "id": "756c9dab",
   "metadata": {},
   "source": [
    "##### Note:\n",
    "The following boxplots visualize distributions for key  features ('hp', 'attack', 'defense', 'sp_attack', 'sp_defense', 'speed', and 'base_total'). It is clear from the plots that there are a number of outliers on the higher end of each distribution.\n",
    "\n",
    "Though there are clearly outliers I am hesitant to remove them because some non-legendary Pokémon, referred to by the community as pseudo-legendary, have very high base stats, typically totaling 600. These Pokémon (e.g., Dragonite, Garchomp, Hydreigon) evolve from earlier forms and are difficult to raise, but are not classified as legendary.\n",
    "\n",
    "Keeping the outliers may help the model tell the difference between powerful non-legendaries and actual legendaries based on more complex patterns."
   ]
  },
  {
   "cell_type": "markdown",
   "id": "593c8a55",
   "metadata": {},
   "source": [
    "#### Getting a Better Understanding of is_legendary (Our Label)"
   ]
  },
  {
   "cell_type": "code",
   "execution_count": 47,
   "id": "4dd7647f",
   "metadata": {},
   "outputs": [
    {
     "data": {
      "text/plain": [
       "0      0\n",
       "1      0\n",
       "2      0\n",
       "3      0\n",
       "4      0\n",
       "      ..\n",
       "796    1\n",
       "797    1\n",
       "798    1\n",
       "799    1\n",
       "800    1\n",
       "Name: is_legendary, Length: 801, dtype: int64"
      ]
     },
     "execution_count": 47,
     "metadata": {},
     "output_type": "execute_result"
    }
   ],
   "source": [
    "df[\"is_legendary\"]"
   ]
  },
  {
   "cell_type": "markdown",
   "id": "960fba82",
   "metadata": {},
   "source": [
    "##### Note:\n",
    "This is great. The label is already encoded and can be used by the model."
   ]
  },
  {
   "cell_type": "code",
   "execution_count": 48,
   "id": "bc0a6755",
   "metadata": {},
   "outputs": [
    {
     "data": {
      "text/plain": [
       "is_legendary\n",
       "0    731\n",
       "1     70\n",
       "Name: count, dtype: int64"
      ]
     },
     "execution_count": 48,
     "metadata": {},
     "output_type": "execute_result"
    }
   ],
   "source": [
    "df[\"is_legendary\"].value_counts()"
   ]
  },
  {
   "cell_type": "markdown",
   "id": "590e78b9",
   "metadata": {},
   "source": [
    "##### Note:\n",
    "There's a significant class imbalances between legendary and non-legendary pokemon. This is important to note because models will be bias and lean towards predicting the majority class (non-legendary). We can use resampling techniques (like SMOTE), or use class weights."
   ]
  },
  {
   "cell_type": "markdown",
   "id": "b86042e5",
   "metadata": {},
   "source": [
    "#### Feature Engineering"
   ]
  },
  {
   "cell_type": "code",
   "execution_count": 49,
   "id": "a27a4f5b",
   "metadata": {},
   "outputs": [
    {
     "data": {
      "text/plain": [
       "dtype('float64')"
      ]
     },
     "execution_count": 49,
     "metadata": {},
     "output_type": "execute_result"
    }
   ],
   "source": [
    "#print(df.dtypes)\n",
    "df['capture_rate'] = pd.to_numeric(df['capture_rate'], errors='coerce')\n",
    "df['capture_rate'].dtype\n"
   ]
  },
  {
   "cell_type": "markdown",
   "id": "d96114bb",
   "metadata": {},
   "source": [
    "##### Note:\n",
    "I saw that 'capture_rate' wasn't a numerical value, but rather a string. So, I converted it to a numerical value."
   ]
  },
  {
   "cell_type": "markdown",
   "id": "c1169ea7",
   "metadata": {},
   "source": [
    "#### Dropping Features"
   ]
  },
  {
   "cell_type": "code",
   "execution_count": 50,
   "id": "749e009e",
   "metadata": {},
   "outputs": [
    {
     "data": {
      "text/plain": [
       "Index(['attack', 'base_happiness', 'base_total', 'capture_rate', 'defense',\n",
       "       'experience_growth', 'hp', 'sp_attack', 'sp_defense', 'speed',\n",
       "       'is_legendary'],\n",
       "      dtype='object')"
      ]
     },
     "execution_count": 50,
     "metadata": {},
     "output_type": "execute_result"
    }
   ],
   "source": [
    "to_drop = ['abilities', 'name', 'percentage_male', 'pokedex_number', 'generation', 'type1', 'type2', 'japanese_name', 'base_egg_steps', 'classfication', 'height_m', 'weight_kg'] # Some features that I think are irrelevant to the problem\n",
    "df = df.drop(columns = to_drop, errors = 'ignore')\n",
    "\n",
    "to_keep = []\n",
    "for col in df.columns: # Because I don't want to copy and paste all the weaknesses\n",
    "    if 'against' not in col: # I want to get rid of all features with 'against' because their weakness tell us nothing about whether they are legendary or not\n",
    "        to_keep.append(col)\n",
    "\n",
    "df = df[to_keep]\n",
    "#print(df.dtypes)\n",
    "df = df.dropna()\n",
    "\n",
    "df.columns"
   ]
  },
  {
   "cell_type": "markdown",
   "id": "4c03f5ed",
   "metadata": {},
   "source": [
    "##### Note:\n",
    "I am dropping 'abilities' because legendary and non-legendary pokemon don't have exclusive abilities. I am also dropping 'name', 'pokedex_number', 'generation', 'japanese_name', and 'classfication' because these are identifiers that tell us nothing on whether a pokemon is legendary or not.\n",
    "\n",
    "I dropped the all columns with 'against' because their weaknesses tell us nothing about whether they are legendary or not.\n",
    "\n",
    "I decided to drop the feature 'base_egg_steps' because legendary pokemon don't hatch from eggs and this will essentially cause a data leakage, giving the model the answers rather than learning anything.\n",
    "\n",
    "'capture_rate' was of the object type, specifically a string. So, I converted it to a numerical value\n",
    "\n",
    "---"
   ]
  },
  {
   "cell_type": "markdown",
   "id": "2794e492",
   "metadata": {},
   "source": [
    "##### Note:\n",
    "Since this is a binary classification problem, I think I will use:\n",
    "- Logistic Regression\n",
    "- Random Forest Classifier\n",
    "- XGBoost\n",
    "\n",
    "In addition, I will balance the model data set using SMOTE to oversample the minority class (legendary pokemon) in the training set as there is a significant imbalance between legendary and non-legendary pokemon.\n",
    "\n",
    "\n",
    "\n",
    "Evaluation Metrics I will use to evaluate the models performance:\n",
    "- Accuracy: How often the model correctly predicts the outcome\n",
    "\n",
    "- F1 Score: The balance between Precision and Recall\n",
    "\n",
    "- Precision: Shows us how many predicted legendaries were actually legendary\n",
    "\n",
    "- Recall: Shows us how many actual legendaries were correctly identified.\n",
    "\n",
    "- ROC-AUC: Measures how well the model separates classes.\n",
    "\n",
    "- Confusion Matrix: Helps identify false positives and false negatives.\n",
    "---"
   ]
  },
  {
   "cell_type": "markdown",
   "id": "4a7a27e8",
   "metadata": {},
   "source": [
    "#### Defining The Project Plan"
   ]
  },
  {
   "cell_type": "markdown",
   "id": "3ac55278",
   "metadata": {},
   "source": [
    "The features I chose to keep include numerical stats such as 'attack', 'base_happiness', 'base_total', 'capture_rate', 'defense', 'experience_growth', 'hp', 'sp_attack', 'sp_defense', and 'speed'. I believe that the stats of a pokemon are the most directly related to a Pokémon’s strength and may influence whether it is classified as legendary. I dropped features such as 'height_m', 'weight_kg', 'type1', and 'type2' because legendary Pokémon can vary widely in size and typing. Identifiers like 'name' and 'japanese_name' were also removed as they provide no value.\n",
    "\n",
    "The models I will explore are Logistic Regression as a baseline, and Random Forest and XGBoost as they're capable of binary classification and capable of modeling complex interactions.\n",
    "\n",
    "\n",
    "I will focus on accuracy, F1 score, precision, recall, confusion matrix, and ROC-AUC as evaluation metrics rather than plain accuracy. Hyperparameter tuning will be conducted using GridSearchCV or RandomizedSearchCV.\n",
    "\n",
    "---"
   ]
  },
  {
   "cell_type": "markdown",
   "id": "ded249b9",
   "metadata": {},
   "source": [
    "##### Implementing Our Project Plan"
   ]
  },
  {
   "cell_type": "code",
   "execution_count": 90,
   "id": "91d6fa60",
   "metadata": {},
   "outputs": [],
   "source": [
    "y = df['is_legendary']\n",
    "X = df.drop(columns = 'is_legendary')"
   ]
  },
  {
   "cell_type": "markdown",
   "id": "b468a492",
   "metadata": {},
   "source": [
    "##### Splitting the Data"
   ]
  },
  {
   "cell_type": "code",
   "execution_count": 91,
   "id": "d7fde237",
   "metadata": {},
   "outputs": [],
   "source": [
    "X_train, X_test, y_train, y_test = train_test_split(X, y, test_size = 0.2, random_state = 1234, stratify = y)"
   ]
  },
  {
   "cell_type": "markdown",
   "id": "f99baa36",
   "metadata": {},
   "source": [
    "##### Feature Scaling"
   ]
  },
  {
   "cell_type": "code",
   "execution_count": 92,
   "id": "f6a3c58b",
   "metadata": {},
   "outputs": [],
   "source": [
    "scaler = StandardScaler()\n",
    "X_train_scaled = scaler.fit_transform(X_train)\n",
    "X_test_scaled  = scaler.transform(X_test)"
   ]
  },
  {
   "cell_type": "markdown",
   "id": "693283ff",
   "metadata": {},
   "source": [
    "##### Addressing Class Imbalance with SMOTE"
   ]
  },
  {
   "cell_type": "code",
   "execution_count": 93,
   "id": "3fd38f50",
   "metadata": {},
   "outputs": [],
   "source": [
    "smote = SMOTE(random_state = 1234)\n",
    "X_train_smote, y_train_smote = smote.fit_resample(X_train_scaled, y_train)"
   ]
  },
  {
   "cell_type": "markdown",
   "id": "0b626caa",
   "metadata": {},
   "source": [
    "##### Training a Logistic Regression Model"
   ]
  },
  {
   "cell_type": "code",
   "execution_count": 94,
   "id": "5b2b92a7",
   "metadata": {},
   "outputs": [
    {
     "name": "stdout",
     "output_type": "stream",
     "text": [
      "              precision    recall  f1-score   support\n",
      "\n",
      "           0       0.99      0.97      0.98       146\n",
      "           1       0.72      0.93      0.81        14\n",
      "\n",
      "    accuracy                           0.96       160\n",
      "   macro avg       0.86      0.95      0.90       160\n",
      "weighted avg       0.97      0.96      0.96       160\n",
      "\n",
      "ROC AUC: 0.9471624266144814\n"
     ]
    }
   ],
   "source": [
    "lr = LogisticRegression(max_iter=1000)\n",
    "lr.fit(X_train_smote, y_train_smote)\n",
    "y_pred = lr.predict(X_test_scaled)\n",
    "\n",
    "print(classification_report(y_test, y_pred))\n",
    "print(\"ROC AUC:\", roc_auc_score(y_test, y_pred))"
   ]
  },
  {
   "cell_type": "markdown",
   "id": "0ddb62ba",
   "metadata": {},
   "source": [
    "#### Training a Random Forest Model"
   ]
  },
  {
   "cell_type": "code",
   "execution_count": 95,
   "id": "286d004d",
   "metadata": {},
   "outputs": [
    {
     "name": "stdout",
     "output_type": "stream",
     "text": [
      "              precision    recall  f1-score   support\n",
      "\n",
      "           0       0.99      1.00      1.00       146\n",
      "           1       1.00      0.93      0.96        14\n",
      "\n",
      "    accuracy                           0.99       160\n",
      "   macro avg       1.00      0.96      0.98       160\n",
      "weighted avg       0.99      0.99      0.99       160\n",
      "\n",
      "ROC AUC (RF): 0.9642857142857143\n"
     ]
    }
   ],
   "source": [
    "rf = RandomForestClassifier(random_state=42, class_weight='balanced')\n",
    "rf.fit(X_train_smote, y_train_smote)\n",
    "y_pred_rf = rf.predict(X_test_scaled)\n",
    "\n",
    "print(classification_report(y_test, y_pred_rf))\n",
    "print(\"ROC AUC (RF):\", roc_auc_score(y_test, y_pred_rf))"
   ]
  },
  {
   "cell_type": "markdown",
   "id": "1af67051",
   "metadata": {},
   "source": [
    "#### Training a XGBoost Model"
   ]
  },
  {
   "cell_type": "code",
   "execution_count": 96,
   "id": "2ebbadf4",
   "metadata": {},
   "outputs": [
    {
     "name": "stdout",
     "output_type": "stream",
     "text": [
      "XGBoost Classification Report:\n",
      "              precision    recall  f1-score   support\n",
      "\n",
      "           0       0.99      1.00      1.00       146\n",
      "           1       1.00      0.93      0.96        14\n",
      "\n",
      "    accuracy                           0.99       160\n",
      "   macro avg       1.00      0.96      0.98       160\n",
      "weighted avg       0.99      0.99      0.99       160\n",
      "\n",
      "ROC AUC Score: 1.0\n"
     ]
    },
    {
     "name": "stderr",
     "output_type": "stream",
     "text": [
      "C:\\Users\\andre\\AppData\\Local\\Packages\\PythonSoftwareFoundation.Python.3.10_qbz5n2kfra8p0\\LocalCache\\local-packages\\Python310\\site-packages\\xgboost\\training.py:183: UserWarning: [16:14:09] WARNING: C:\\actions-runner\\_work\\xgboost\\xgboost\\src\\learner.cc:738: \n",
      "Parameters: { \"use_label_encoder\" } are not used.\n",
      "\n",
      "  bst.update(dtrain, iteration=i, fobj=obj)\n"
     ]
    }
   ],
   "source": [
    "xgb_model = XGBClassifier(use_label_encoder=False, eval_metric='logloss', random_state=42)\n",
    "xgb_model.fit(X_train_smote, y_train_smote)\n",
    "\n",
    "xgb_preds = xgb_model.predict(X_test_scaled)\n",
    "xgb_proba = xgb_model.predict_proba(X_test_scaled)[:, 1]\n",
    "\n",
    "print(\"XGBoost Classification Report:\")\n",
    "print(classification_report(y_test, xgb_preds))\n",
    "print(\"ROC AUC Score:\", roc_auc_score(y_test, xgb_proba))"
   ]
  },
  {
   "cell_type": "markdown",
   "id": "75544889",
   "metadata": {},
   "source": [
    "### ENDS HERE"
   ]
  }
 ],
 "metadata": {
  "kernelspec": {
   "display_name": "Python 3",
   "language": "python",
   "name": "python3"
  },
  "language_info": {
   "codemirror_mode": {
    "name": "ipython",
    "version": 3
   },
   "file_extension": ".py",
   "mimetype": "text/x-python",
   "name": "python",
   "nbconvert_exporter": "python",
   "pygments_lexer": "ipython3",
   "version": "3.10.11"
  }
 },
 "nbformat": 4,
 "nbformat_minor": 5
}
